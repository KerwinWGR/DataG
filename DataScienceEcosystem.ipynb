{
 "cells": [
  {
   "cell_type": "markdown",
   "id": "a7f1d72f-01e2-4066-bf8e-4970c67e3e7e",
   "metadata": {},
   "source": [
    "# Data Science Tools and Ecosystem"
   ]
  },
  {
   "cell_type": "markdown",
   "id": "977c10f1-3203-47c0-9875-e2b8ea540234",
   "metadata": {},
   "source": [
    "In this notebook, Data Science Tools and Ecosystem are summarized."
   ]
  },
  {
   "cell_type": "markdown",
   "id": "e860c9d1-8640-42c4-9c3d-ecc63ad66df5",
   "metadata": {},
   "source": [
    "Some of the popular languages that Data Scientists use are:\n",
    "1. Paython\n",
    "2. R\n",
    "3. SQL\n",
    "\n",
    "\n"
   ]
  },
  {
   "cell_type": "markdown",
   "id": "92b8c13c-5161-48bb-bbac-7444972a797f",
   "metadata": {},
   "source": [
    "Some of the commonly used libraries used by Data Scientists include:\n",
    "1. Numpy\n",
    "2. Pandas\n",
    "3. TensorFlow"
   ]
  },
  {
   "cell_type": "markdown",
   "id": "36c9f516-dca6-4ecf-8333-095993b6c372",
   "metadata": {},
   "source": [
    "| Data Science Tools | | |\n",
    "|------|------|------|\n",
    "| TensorFlow | Python | Spark |"
   ]
  },
  {
   "cell_type": "markdown",
   "id": "75f30e66-7819-4bda-bbf2-88d83f7357dd",
   "metadata": {},
   "source": [
    "### Below are a few examples of evaluating arithmetic expressions in Python"
   ]
  },
  {
   "cell_type": "markdown",
   "id": "42b6b859-992f-4fa4-bd24-5a95053c8e12",
   "metadata": {},
   "source": [
    "Expresión Matemática de suma y multiplcación"
   ]
  },
  {
   "cell_type": "code",
   "execution_count": 3,
   "id": "d93f2714-74e5-4209-ae16-6b29d022fc6c",
   "metadata": {},
   "outputs": [
    {
     "data": {
      "text/plain": [
       "70"
      ]
     },
     "execution_count": 3,
     "metadata": {},
     "output_type": "execute_result"
    }
   ],
   "source": [
    "(20+15)*2"
   ]
  },
  {
   "cell_type": "markdown",
   "id": "8acbaeb9-d08d-4d53-bcc1-0e848a6b56a5",
   "metadata": {},
   "source": [
    "Conversión de 200 minutos a horas, dividiendo entre 60, el cual es la cantidad de minutos que posee una hora."
   ]
  },
  {
   "cell_type": "code",
   "execution_count": 5,
   "id": "64e5330d-63c2-4e0b-b98d-3ba45fba47f3",
   "metadata": {},
   "outputs": [
    {
     "data": {
      "text/plain": [
       "3.3333333333333335"
      ]
     },
     "execution_count": 5,
     "metadata": {},
     "output_type": "execute_result"
    }
   ],
   "source": [
    "(200/60)"
   ]
  },
  {
   "cell_type": "markdown",
   "id": "ee112ec2-58ff-442b-9b69-b8e762aa91c9",
   "metadata": {},
   "source": [
    "## Objectives:\n",
    "* Language Python\n",
    "* Language R \n",
    "* Language Sql\n",
    "* Library Spark \n",
    "* Library TensoFlow"
   ]
  },
  {
   "cell_type": "markdown",
   "id": "6fe65b70-0e50-43cc-a006-f43ab2e86d63",
   "metadata": {},
   "source": [
    "## Author\n",
    "Kerwin Garcia"
   ]
  }
 ],
 "metadata": {
  "kernelspec": {
   "display_name": "Python",
   "language": "python",
   "name": "conda-env-python-py"
  },
  "language_info": {
   "codemirror_mode": {
    "name": "ipython",
    "version": 3
   },
   "file_extension": ".py",
   "mimetype": "text/x-python",
   "name": "python",
   "nbconvert_exporter": "python",
   "pygments_lexer": "ipython3",
   "version": "3.7.12"
  }
 },
 "nbformat": 4,
 "nbformat_minor": 5
}
